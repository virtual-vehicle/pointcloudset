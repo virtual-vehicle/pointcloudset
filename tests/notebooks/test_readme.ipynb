{
 "cells": [
  {
   "cell_type": "code",
   "execution_count": null,
   "metadata": {},
   "outputs": [],
   "source": [
    "import urllib.request\n",
    "from pathlib import Path\n",
    "\n",
    "from pointcloudset import Dataset, PointCloud\n",
    "\n",
    "urllib.request.urlretrieve(\"https://github.com/virtual-vehicle/pointcloudset/raw/master/tests/testdata/test.bag\", \"test.bag\")\n",
    "urllib.request.urlretrieve(\"https://github.com/virtual-vehicle/pointcloudset/raw/master/tests/testdata/las_files/test_tree.las\", \"test_tree.las\")\n",
    "\n",
    "dataset = Dataset.from_file(Path(\"test.bag\"), topic=\"/os1_cloud_node/points\", keep_zeros=False)\n",
    "pointcloud = dataset[1]\n",
    "tree = PointCloud.from_file(Path(\"test_tree.las\"))\n",
    "\n",
    "tree.plot(\"x\", hover_data=True)"
   ]
  }
 ],
 "metadata": {
  "language_info": {
   "name": "python"
  },
  "orig_nbformat": 4
 },
 "nbformat": 4,
 "nbformat_minor": 2
}