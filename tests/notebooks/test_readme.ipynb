{
 "cells": [
  {
   "cell_type": "code",
   "execution_count": 1,
   "source": [
    "from pointcloudset import Dataset, PointCloud\n",
    "from pathlib import Path\n",
    "import urllib.request \n",
    "\n",
    "urllib.request.urlretrieve(\"https://github.com/virtual-vehicle/pointcloudset/raw/master/tests/testdata/test.bag\", \"test.bag\")\n",
    "urllib.request.urlretrieve(\"https://github.com/virtual-vehicle/pointcloudset/raw/master/tests/testdata/las_files/test_tree.las\", \"test_tree.las\")\n",
    "\n",
    "dataset = Dataset.from_file(Path(\"test.bag\"), topic=\"/os1_cloud_node/points\", keep_zeros=False)\n",
    "pointcloud = dataset[1]\n",
    "pointcloud2 = PointCloud.from_file(Path(\"test_tree.las\"))"
   ],
   "outputs": [
    {
     "output_type": "stream",
     "name": "stderr",
     "text": [
      "100%|██████████| 2/2 [00:00<00:00,  2.52it/s]\n"
     ]
    }
   ],
   "metadata": {}
  }
 ],
 "metadata": {
  "orig_nbformat": 4,
  "language_info": {
   "name": "python"
  }
 },
 "nbformat": 4,
 "nbformat_minor": 2
}